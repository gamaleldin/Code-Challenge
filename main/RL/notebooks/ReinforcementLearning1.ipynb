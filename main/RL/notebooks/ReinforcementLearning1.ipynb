{
 "cells": [
  {
   "cell_type": "code",
   "execution_count": 1,
   "metadata": {},
   "outputs": [
    {
     "name": "stderr",
     "output_type": "stream",
     "text": [
      "[2017-06-06 23:56:28,812] Making new env: CartPole-v0\n"
     ]
    }
   ],
   "source": [
    "\"\"\"\n",
    "Sean Bittner, June 4, 2017\n",
    "The objective of this task is to get familiar with the predominant tools\n",
    "for developing reward learning algorithms.\n",
    "\n",
    "1.) AI Gym - OpenAI repo for reward learning environments intended for\n",
    "            making controlled comparisons of reward learning algorithms.\n",
    "    https://gym.openai.com/\n",
    "\n",
    "2.) AI Baselines - OpenAI repo for reward learning algorithms.  So far,\n",
    "                   only the code for DQN training has been posted. Here,\n",
    "                   we'll use it for a performance reference point.\n",
    "    https://blog.openai.com/openai-baselines-dqn/\n",
    "\n",
    "    Note: AI Baselines is written in python 3.  If you have python 2.7\n",
    "          as your main install, I suggest using a virtual environment\n",
    "          for this repo.  See link.\n",
    "          http://joebergantine.com/blog/2015/apr/30/installing-python-2-and-python-3-alongside-each-ot/\n",
    "\n",
    "          I recommend appending these two lines to your bin/activate\n",
    "          script if you follow the instructions\n",
    "          unset PYTHONPATH\n",
    "          export PYTHONPATH=<base directory of your virtual env>\n",
    "\n",
    "\"\"\"        \n",
    "%matplotlib inline\n",
    "\n",
    "import os\n",
    "import gym\n",
    "from baselines import deepq\n",
    "import numpy as np\n",
    "from matplotlib import pyplot as plt\n",
    "import itertools\n",
    "\n",
    "env = gym.make(\"CartPole-v0\")\n",
    "\n",
    "num_eps = 10;\n",
    "max_its = 1000;\n",
    "reward_trained = np.zeros((num_eps,));\n",
    "reward_random = np.zeros((num_eps,));\n",
    "act = None;\n"
   ]
  },
  {
   "cell_type": "code",
   "execution_count": 2,
   "metadata": {},
   "outputs": [
    {
     "name": "stdout",
     "output_type": "stream",
     "text": [
      "WARNING:tensorflow:VARIABLES collection name is deprecated, please use GLOBAL_VARIABLES instead; VARIABLES will be removed after 2017-03-02.\n"
     ]
    },
    {
     "name": "stderr",
     "output_type": "stream",
     "text": [
      "[2017-06-06 23:56:28,942] VARIABLES collection name is deprecated, please use GLOBAL_VARIABLES instead; VARIABLES will be removed after 2017-03-02.\n"
     ]
    },
    {
     "name": "stdout",
     "output_type": "stream",
     "text": [
      "WARNING:tensorflow:VARIABLES collection name is deprecated, please use GLOBAL_VARIABLES instead; VARIABLES will be removed after 2017-03-02.\n"
     ]
    },
    {
     "name": "stderr",
     "output_type": "stream",
     "text": [
      "[2017-06-06 23:56:28,982] VARIABLES collection name is deprecated, please use GLOBAL_VARIABLES instead; VARIABLES will be removed after 2017-03-02.\n"
     ]
    },
    {
     "name": "stdout",
     "output_type": "stream",
     "text": [
      "--------------------------------------\n",
      "| steps                   | 148      |\n",
      "| episodes                | 10       |\n",
      "| mean 100 episode reward | 16.6     |\n",
      "| % time spent exploring  | 92       |\n",
      "--------------------------------------\n",
      "--------------------------------------\n",
      "| steps                   | 318      |\n",
      "| episodes                | 20       |\n",
      "| mean 100 episode reward | 16.8     |\n",
      "| % time spent exploring  | 84       |\n",
      "--------------------------------------\n"
     ]
    },
    {
     "name": "stderr",
     "output_type": "stream",
     "text": [
      "/Users/sbittner/Documents/Code-Challenge/main/RL/lib/python3.6/site-packages/numpy/core/fromnumeric.py:2889: RuntimeWarning: Mean of empty slice.\n",
      "  out=out, **kwargs)\n",
      "/Users/sbittner/Documents/Code-Challenge/main/RL/lib/python3.6/site-packages/numpy/core/_methods.py:80: RuntimeWarning: invalid value encountered in double_scalars\n",
      "  ret = ret.dtype.type(ret / rcount)\n"
     ]
    },
    {
     "name": "stdout",
     "output_type": "stream",
     "text": [
      "--------------------------------------\n",
      "| steps                   | 496      |\n",
      "| episodes                | 30       |\n",
      "| mean 100 episode reward | 17.1     |\n",
      "| % time spent exploring  | 75       |\n",
      "--------------------------------------\n",
      "--------------------------------------\n",
      "| steps                   | 651      |\n",
      "| episodes                | 40       |\n",
      "| mean 100 episode reward | 16.7     |\n",
      "| % time spent exploring  | 68       |\n",
      "--------------------------------------\n",
      "--------------------------------------\n",
      "| steps                   | 783      |\n",
      "| episodes                | 50       |\n",
      "| mean 100 episode reward | 16       |\n",
      "| % time spent exploring  | 61       |\n",
      "--------------------------------------\n",
      "--------------------------------------\n",
      "| steps                   | 908      |\n",
      "| episodes                | 60       |\n",
      "| mean 100 episode reward | 15.4     |\n",
      "| % time spent exploring  | 55       |\n",
      "--------------------------------------\n",
      "--------------------------------------\n",
      "| steps                   | 1.04e+03 |\n",
      "| episodes                | 70       |\n",
      "| mean 100 episode reward | 15       |\n",
      "| % time spent exploring  | 49       |\n",
      "--------------------------------------\n",
      "--------------------------------------\n",
      "| steps                   | 1.2e+03  |\n",
      "| episodes                | 80       |\n",
      "| mean 100 episode reward | 15.3     |\n",
      "| % time spent exploring  | 41       |\n",
      "--------------------------------------\n",
      "--------------------------------------\n",
      "| steps                   | 1.54e+03 |\n",
      "| episodes                | 90       |\n",
      "| mean 100 episode reward | 17.4     |\n",
      "| % time spent exploring  | 24       |\n",
      "--------------------------------------\n",
      "--------------------------------------\n",
      "| steps                   | 2.5e+03  |\n",
      "| episodes                | 100      |\n",
      "| mean 100 episode reward | 25.2     |\n",
      "| % time spent exploring  | 2        |\n",
      "--------------------------------------\n",
      "--------------------------------------\n",
      "| steps                   | 3.33e+03 |\n",
      "| episodes                | 110      |\n",
      "| mean 100 episode reward | 31.9     |\n",
      "| % time spent exploring  | 2        |\n",
      "--------------------------------------\n",
      "--------------------------------------\n",
      "| steps                   | 4.17e+03 |\n",
      "| episodes                | 120      |\n",
      "| mean 100 episode reward | 38.6     |\n",
      "| % time spent exploring  | 2        |\n",
      "--------------------------------------\n",
      "--------------------------------------\n",
      "| steps                   | 5.13e+03 |\n",
      "| episodes                | 130      |\n",
      "| mean 100 episode reward | 46.4     |\n",
      "| % time spent exploring  | 2        |\n",
      "--------------------------------------\n",
      "--------------------------------------\n",
      "| steps                   | 6.25e+03 |\n",
      "| episodes                | 140      |\n",
      "| mean 100 episode reward | 56       |\n",
      "| % time spent exploring  | 2        |\n",
      "--------------------------------------\n",
      "--------------------------------------\n",
      "| steps                   | 7.8e+03  |\n",
      "| episodes                | 150      |\n",
      "| mean 100 episode reward | 70.1     |\n",
      "| % time spent exploring  | 2        |\n",
      "--------------------------------------\n",
      "--------------------------------------\n",
      "| steps                   | 8.82e+03 |\n",
      "| episodes                | 160      |\n",
      "| mean 100 episode reward | 79.1     |\n",
      "| % time spent exploring  | 2        |\n",
      "--------------------------------------\n",
      "Saving model due to mean reward increase: None -> 89.8\n",
      "--------------------------------------\n",
      "| steps                   | 1.02e+04 |\n",
      "| episodes                | 170      |\n",
      "| mean 100 episode reward | 91.2     |\n",
      "| % time spent exploring  | 2        |\n",
      "--------------------------------------\n",
      "--------------------------------------\n",
      "| steps                   | 1.15e+04 |\n",
      "| episodes                | 180      |\n",
      "| mean 100 episode reward | 103      |\n",
      "| % time spent exploring  | 2        |\n",
      "--------------------------------------\n",
      "--------------------------------------\n",
      "| steps                   | 1.3e+04  |\n",
      "| episodes                | 190      |\n",
      "| mean 100 episode reward | 115      |\n",
      "| % time spent exploring  | 2        |\n",
      "--------------------------------------\n",
      "--------------------------------------\n",
      "| steps                   | 1.44e+04 |\n",
      "| episodes                | 200      |\n",
      "| mean 100 episode reward | 120      |\n",
      "| % time spent exploring  | 2        |\n",
      "--------------------------------------\n",
      "--------------------------------------\n",
      "| steps                   | 1.6e+04  |\n",
      "| episodes                | 210      |\n",
      "| mean 100 episode reward | 127      |\n",
      "| % time spent exploring  | 2        |\n",
      "--------------------------------------\n",
      "--------------------------------------\n",
      "| steps                   | 1.73e+04 |\n",
      "| episodes                | 220      |\n",
      "| mean 100 episode reward | 132      |\n",
      "| % time spent exploring  | 2        |\n",
      "--------------------------------------\n",
      "--------------------------------------\n",
      "| steps                   | 1.88e+04 |\n",
      "| episodes                | 230      |\n",
      "| mean 100 episode reward | 136      |\n",
      "| % time spent exploring  | 2        |\n",
      "--------------------------------------\n",
      "Restored model with mean reward: 89.8\n",
      "INFO:tensorflow:Restoring parameters from /var/folders/dl/tnt_bhk130sg216kffjpw2040000gn/T/tmpulsr8mk_/model\n"
     ]
    },
    {
     "name": "stderr",
     "output_type": "stream",
     "text": [
      "[2017-06-06 23:57:06,211] Restoring parameters from /var/folders/dl/tnt_bhk130sg216kffjpw2040000gn/T/tmpulsr8mk_/model\n"
     ]
    }
   ],
   "source": [
    "model = deepq.models.mlp([64])\n",
    "act = deepq.learn(\n",
    "    env,\n",
    "    q_func=model,\n",
    "    lr=1e-3,\n",
    "    max_timesteps=20000,\n",
    "    buffer_size=20000,\n",
    "    exploration_fraction=0.1,\n",
    "    exploration_final_eps=0.02,\n",
    "    print_freq=10,\n",
    "    callback=None\n",
    ")\n",
    "\n",
    "act.save('cp.pkl');"
   ]
  },
  {
   "cell_type": "code",
   "execution_count": 3,
   "metadata": {},
   "outputs": [
    {
     "name": "stdout",
     "output_type": "stream",
     "text": [
      "episode 1\n",
      "episode 2\n",
      "episode 3\n",
      "episode 4\n",
      "episode 5\n",
      "episode 6\n",
      "episode 7\n",
      "episode 8\n",
      "episode 9\n",
      "episode 10\n"
     ]
    }
   ],
   "source": [
    "# Visualize performance of random model\n",
    "observation = env.reset()\n",
    "ep_ind = 0;\n",
    "count = 0;\n",
    "print('episode 1')\n",
    "for i in itertools.count():\n",
    "    count += 1;\n",
    "    env.render()\n",
    "    action = env.action_space.sample();\n",
    "    observation, reward, done, info = env.step(action);\n",
    "    if done:\n",
    "        reward_random[ep_ind] = count;\n",
    "        count = 0;\n",
    "        observation = env.reset();\n",
    "        ep_ind = ep_ind + 1;\n",
    "        if (ep_ind == num_eps):\n",
    "            break\n",
    "        print('episode %d' % (ep_ind+1));\n",
    "\n",
    "        "
   ]
  },
  {
   "cell_type": "code",
   "execution_count": 4,
   "metadata": {},
   "outputs": [
    {
     "name": "stdout",
     "output_type": "stream",
     "text": [
      "episode 1\n",
      "episode 2\n",
      "episode 3\n",
      "episode 4\n",
      "episode 5\n",
      "episode 6\n",
      "episode 7\n",
      "episode 8\n",
      "episode 9\n",
      "episode 10\n"
     ]
    }
   ],
   "source": [
    "# Visualize performance of trained model\n",
    "if act is None:\n",
    "    act = deepq.load('cp.pkl');\n",
    "    \n",
    "observation = env.reset()\n",
    "ep_ind = 0;\n",
    "count = 0;\n",
    "print('episode 1')\n",
    "for i in itertools.count():\n",
    "    count += 1;\n",
    "    env.render()\n",
    "    action = act(observation[None])[0];\n",
    "    observation, reward, done, info = env.step(action);\n",
    "    if done:\n",
    "        reward_trained[ep_ind] = count;\n",
    "        count = 0;\n",
    "        observation = env.reset();\n",
    "        ep_ind = ep_ind + 1;\n",
    "        if (ep_ind == num_eps):\n",
    "            break\n",
    "        print('episode %d' % (ep_ind+1));\n"
   ]
  },
  {
   "cell_type": "code",
   "execution_count": 5,
   "metadata": {},
   "outputs": [
    {
     "data": {
      "image/png": "[encoded data removed]",
      "text/plain": [
       "<matplotlib.figure.Figure at 0x106c4e550>"
      ]
     },
     "metadata": {},
     "output_type": "display_data"
    }
   ],
   "source": [
    "# We have visualized a random player and a trained player.\n",
    "# Let's compare their performance across 10 episodes.\n",
    "\n",
    "plt.figure();\n",
    "plt.plot(reward_trained);\n",
    "plt.plot(reward_random);\n",
    "plt.ylim([0,205]);\n",
    "plt.xlabel('episode');\n",
    "plt.ylabel('time steps upright');\n",
    "plt.legend(['trained 64-unit MLP', 'random']);\n"
   ]
  },
  {
   "cell_type": "code",
   "execution_count": null,
   "metadata": {
    "collapsed": true
   },
   "outputs": [],
   "source": []
  }
 ],
 "metadata": {
  "kernelspec": {
   "display_name": "Python 3",
   "language": "python",
   "name": "python3"
  },
  "language_info": {
   "codemirror_mode": {
    "name": "ipython",
    "version": 3
   },
   "file_extension": ".py",
   "mimetype": "text/x-python",
   "name": "python",
   "nbconvert_exporter": "python",
   "pygments_lexer": "ipython3",
   "version": "3.6.1"
  }
 },
 "nbformat": 4,
 "nbformat_minor": 2
}
