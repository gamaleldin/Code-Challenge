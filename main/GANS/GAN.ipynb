{
 "cells": [
  {
   "cell_type": "markdown",
   "metadata": {},
   "source": [
    "# Generative Adversarial Networks"
   ]
  },
  {
   "cell_type": "code",
   "execution_count": 1,
   "metadata": {
    "collapsed": true
   },
   "outputs": [],
   "source": [
    "# imports \n",
    "import tensorflow as tf\n",
    "import matplotlib.pyplot as plt\n",
    "import matplotlib.gridspec as pltgrid\n",
    "import numpy as np\n",
    "import numpy.random as rng"
   ]
  },
  {
   "cell_type": "code",
   "execution_count": 2,
   "metadata": {
    "collapsed": true
   },
   "outputs": [],
   "source": [
    "# neural network class\n",
    "class neural_net(object):\n",
    "    ''' Neural Network Class'''\n",
    "    def __init__(self, layer_sizes, activationFn=tf.nn.relu):\n",
    "        self.activationFn = activationFn # network activation function\n",
    "        self.weights = []\n",
    "        self.biases = []\n",
    "        for s1,s2 in zip(layer_sizes[0:-1], layer_sizes[1:]):\n",
    "            self.weights += [tf.Variable(tf.truncated_normal(shape=[s1,s2], stddev=1./tf.sqrt(s2*1.)))]\n",
    "            self.biases += [tf.Variable(tf.zeros(shape= [s2]))]\n",
    "    ''' Logits function'''\n",
    "    def get_logits(self, ip):\n",
    "        h = ip   #initilaize layer with input\n",
    "        ###  forward pass through network layers ###\n",
    "        for w, b in zip(self.weights[:-1], self.biases[:-1]):\n",
    "            h = self.activationFn(tf.matmul(h,w)+b)\n",
    "        return tf.matmul(h, self.weights[-1])+self.biases[-1]\n",
    "    '''Network output'''\n",
    "    def out(self, ip):\n",
    "        return tf.nn.sigmoid(self.get_logits(ip))"
   ]
  },
  {
   "cell_type": "code",
   "execution_count": null,
   "metadata": {},
   "outputs": [],
   "source": []
  },
  {
   "cell_type": "code",
   "execution_count": 3,
   "metadata": {},
   "outputs": [],
   "source": [
    "''' digits plotting function'''\n",
    "def plot_digits(digits):\n",
    "    l = int(np.ceil(np.sqrt(digits.shape[0])))\n",
    "    fig = plt.figure(figsize=(l,l))\n",
    "    gs = pltgrid.GridSpec(l,l)\n",
    "    for i, d in enumerate(digits):\n",
    "        plt.subplot(gs[i])\n",
    "        plt.imshow(digits[i].reshape(28, 28), cmap='Greys_r')\n",
    "        plt.axis('off')\n",
    "    return fig\n",
    "\n",
    "''' sampling function'''\n",
    "def sample_z(n, s):\n",
    "    return rng.uniform(-.5, .5, size=[n, s])\n",
    "    "
   ]
  },
  {
   "cell_type": "code",
   "execution_count": 4,
   "metadata": {},
   "outputs": [
    {
     "name": "stdout",
     "output_type": "stream",
     "text": [
      "Extracting /Users/gamal/git_local_repo/code_challenge/data/data/MNIST/train-images-idx3-ubyte.gz\n",
      "Extracting /Users/gamal/git_local_repo/code_challenge/data/data/MNIST/train-labels-idx1-ubyte.gz\n",
      "Extracting /Users/gamal/git_local_repo/code_challenge/data/data/MNIST/t10k-images-idx3-ubyte.gz\n",
      "Extracting /Users/gamal/git_local_repo/code_challenge/data/data/MNIST/t10k-labels-idx1-ubyte.gz\n"
     ]
    },
    {
     "data": {
      "image/png": "[encoded data removed]",
      "text/plain": [
       "<matplotlib.figure.Figure at 0x116efad10>"
      ]
     },
     "execution_count": 4,
     "metadata": {},
     "output_type": "execute_result"
    }
   ],
   "source": [
    "# load data\n",
    "from tensorflow.examples.tutorials import mnist\n",
    "directory = '/Users/gamal/git_local_repo/code_challenge/data/'\n",
    "mnist_data = mnist.input_data.read_data_sets(directory + 'data/MNIST', one_hot=True)\n",
    "l = mnist_data.train.images.shape[1]\n",
    "plot_digits(mnist_data.train.images[0:25])"
   ]
  },
  {
   "cell_type": "code",
   "execution_count": 5,
   "metadata": {},
   "outputs": [],
   "source": [
    "g = tf.Graph()\n",
    "with g.as_default():\n",
    "    # Discriminator network\n",
    "    layer_sizes = (784, 200, 200, 1)\n",
    "    ip_imgs = tf.placeholder(shape=[None, layer_sizes[0]], dtype=tf.float32) # input to network\n",
    "    D = neural_net(layer_sizes=layer_sizes)\n",
    "\n",
    "    # Generator network\n",
    "    latent_size = 100\n",
    "    layer_sizes = (latent_size, 200, 200, 784)\n",
    "    Z = tf.placeholder(shape=[None, latent_size], dtype=tf.float32)\n",
    "    G = neural_net(layer_sizes=layer_sizes)\n",
    "    # define losses\n",
    "    D_loss = tf.reduce_mean(tf.nn.sigmoid_cross_entropy_with_logits(logits=D.get_logits(ip_imgs), \\\n",
    "                                                                    labels = tf.ones_like(D.get_logits(ip_imgs))))+ \\\n",
    "             tf.reduce_mean(tf.nn.sigmoid_cross_entropy_with_logits(logits=D.get_logits(G.out(Z)), \\\n",
    "                                                                    labels = tf.zeros_like(D.get_logits(G.out(Z)))))\n",
    "        \n",
    "    G_loss = tf.reduce_mean(tf.nn.sigmoid_cross_entropy_with_logits(logits=D.get_logits(G.out(Z)), \\\n",
    "                                                                    labels = tf.ones_like(D.get_logits(G.out(Z)))))\n",
    "    \n",
    "    # solvers \n",
    "    learning_rate = 0.001\n",
    "    optimize_D = tf.train.AdamOptimizer(learning_rate).minimize(D_loss, var_list = D.weights+D.biases)\n",
    "    optimize_G = tf.train.AdamOptimizer(learning_rate).minimize(G_loss, var_list = G.weights+G.biases)\n",
    "\n",
    "    init = tf.global_variables_initializer()"
   ]
  },
  {
   "cell_type": "code",
   "execution_count": null,
   "metadata": {},
   "outputs": [
    {
     "name": "stdout",
     "output_type": "stream",
     "text": [
      "(0, 2.7928391, 1.6769786)\n",
      "(1000, 7.465099e-13, 29.083002)\n",
      "(2000, 6.4936416e-09, 19.362225)\n",
      "(3000, 3.0863723e-07, 16.444592)\n",
      "(4000, 1.9911814e-20, 62.248497)\n",
      "(5000, 4.4138281e-07, 14.642342)\n"
     ]
    }
   ],
   "source": [
    "max_iter = 10000\n",
    "batch_size = 100\n",
    "with tf.Session(graph=g) as sess:\n",
    "    init.run()\n",
    "    for i in range(max_iter):\n",
    "        feed_dict = {ip_imgs: mnist_data.train.next_batch(batch_size)[0], Z: sample_z(batch_size, latent_size)}\n",
    "        for k in range(1):\n",
    "            _, D_l = sess.run([optimize_D, D_loss], feed_dict=feed_dict)\n",
    "        feed_dict = {Z: sample_z(batch_size, latent_size)}\n",
    "        _, G_l = sess.run([optimize_G, G_loss], feed_dict=feed_dict)\n",
    "\n",
    "        if i%1000==0:\n",
    "            print (i, D_l, G_l)\n",
    "    feed_dict = {Z: sample_z(25, latent_size)}\n",
    "    plot_digits(sess.run(G.out(Z), feed_dict=feed_dict))\n",
    "    plt.show()"
   ]
  },
  {
   "cell_type": "code",
   "execution_count": null,
   "metadata": {},
   "outputs": [],
   "source": []
  },
  {
   "cell_type": "code",
   "execution_count": null,
   "metadata": {},
   "outputs": [],
   "source": [
    "\n"
   ]
  },
  {
   "cell_type": "code",
   "execution_count": null,
   "metadata": {},
   "outputs": [],
   "source": []
  },
  {
   "cell_type": "code",
   "execution_count": null,
   "metadata": {},
   "outputs": [],
   "source": []
  },
  {
   "cell_type": "code",
   "execution_count": null,
   "metadata": {},
   "outputs": [],
   "source": []
  },
  {
   "cell_type": "code",
   "execution_count": null,
   "metadata": {
    "collapsed": true
   },
   "outputs": [],
   "source": []
  }
 ],
 "metadata": {
  "kernelspec": {
   "display_name": "Python 2",
   "language": "python",
   "name": "python2"
  },
  "language_info": {
   "codemirror_mode": {
    "name": "ipython",
    "version": 2
   },
   "file_extension": ".py",
   "mimetype": "text/x-python",
   "name": "python",
   "nbconvert_exporter": "python",
   "pygments_lexer": "ipython2",
   "version": "2.7.13"
  }
 },
 "nbformat": 4,
 "nbformat_minor": 2
}
