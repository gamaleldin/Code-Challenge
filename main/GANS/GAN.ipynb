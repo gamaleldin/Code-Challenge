{
 "cells": [
  {
   "cell_type": "markdown",
   "metadata": {},
   "source": [
    "# Generative Adversarial Networks"
   ]
  },
  {
   "cell_type": "code",
   "execution_count": 1,
   "metadata": {
    "collapsed": true
   },
   "outputs": [],
   "source": [
    "# imports \n",
    "import tensorflow as tf\n",
    "import matplotlib.pyplot as plt\n",
    "import numpy as np\n",
    "import numpy.random as rng"
   ]
  },
  {
   "cell_type": "code",
   "execution_count": 19,
   "metadata": {},
   "outputs": [],
   "source": [
    "# neural network class\n",
    "class neural_net(object):\n",
    "    ''' Neural Network Class'''\n",
    "    def __init__(self, layer_sizes, activationFn=tf.nn.relu):\n",
    "        self.ip = tf.placeholder(shape=[None, layer_sizes[0]], dtype=tf.float32) # input to network\n",
    "        self.activationFn = activationFn # network activation function\n",
    "        self.weights = []\n",
    "        self.biases = []\n",
    "        for s1,s2 in zip(layer_sizes[0:-1], layer_sizes[1:]):\n",
    "            self.weights += [tf.Variable(tf.truncated_normal(shape=[s1,s2], stddev=1./tf.sqrt(s2*1.)))]\n",
    "            self.biases += [tf.Variable(tf.zeros(shape= [s2]))]\n",
    "    ''' Logits function'''\n",
    "    def logits(self):\n",
    "        h = self.ip   #initilaize layer with input\n",
    "        ###  forward pass through network layers ###\n",
    "        for w, b in zip(self.weights[:-1], self.biases[:-1]):\n",
    "            h = self.activationFn(tf.matmul(h,w)+b)\n",
    "        return tf.matmul(h, self.weights[-1])+tf.biases[-1]"
   ]
  },
  {
   "cell_type": "code",
   "execution_count": null,
   "metadata": {},
   "outputs": [],
   "source": []
  },
  {
   "cell_type": "code",
   "execution_count": null,
   "metadata": {},
   "outputs": [],
   "source": []
  },
  {
   "cell_type": "code",
   "execution_count": null,
   "metadata": {},
   "outputs": [],
   "source": []
  },
  {
   "cell_type": "code",
   "execution_count": null,
   "metadata": {},
   "outputs": [],
   "source": []
  },
  {
   "cell_type": "code",
   "execution_count": null,
   "metadata": {
    "collapsed": true
   },
   "outputs": [],
   "source": []
  }
 ],
 "metadata": {
  "kernelspec": {
   "display_name": "Python 2",
   "language": "python",
   "name": "python2"
  },
  "language_info": {
   "codemirror_mode": {
    "name": "ipython",
    "version": 2
   },
   "file_extension": ".py",
   "mimetype": "text/x-python",
   "name": "python",
   "nbconvert_exporter": "python",
   "pygments_lexer": "ipython2",
   "version": "2.7.13"
  }
 },
 "nbformat": 4,
 "nbformat_minor": 2
}
